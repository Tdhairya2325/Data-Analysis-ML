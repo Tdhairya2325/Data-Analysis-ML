{
  "nbformat": 4,
  "nbformat_minor": 0,
  "metadata": {
    "colab": {
      "provenance": []
    },
    "kernelspec": {
      "name": "python3",
      "display_name": "Python 3"
    },
    "language_info": {
      "name": "python"
    }
  },
  "cells": [
    {
      "cell_type": "markdown",
      "source": [
        "Code Courtesy: https://iq.opengenus.org/radial-basis-neural-network/"
      ],
      "metadata": {
        "id": "rIRWy_PWQdb2"
      }
    },
    {
      "cell_type": "code",
      "source": [
        "import numpy as np\n",
        "import matplotlib.pyplot as plt"
      ],
      "metadata": {
        "id": "KWI5WJQ0Ebvm"
      },
      "execution_count": null,
      "outputs": []
    },
    {
      "cell_type": "markdown",
      "source": [
        "Defining our class and its hyper-parameter\n",
        "*   kernels: represents the number of RBFs to use which is also the number of\n",
        "neurons in the hidden layer.\n",
        "*   centers: is a vector containing the center of each RBF\n",
        "*   beta: is a hyper-parameter to control the width of the bell curve\n",
        "*   lr: learning rate\n",
        "*   epochs: number of training iterations"
      ],
      "metadata": {
        "id": "Vn2V8w1MDRYX"
      }
    },
    {
      "cell_type": "code",
      "execution_count": null,
      "metadata": {
        "id": "5WfsRYYMDKsQ"
      },
      "outputs": [],
      "source": [
        "class RBFNN:\n",
        "\n",
        "    def __init__(self, kernels,centers, beta=1,lr=0.1,epochs=80) -> None:\n",
        "\n",
        "        self.kernels = kernels\n",
        "        self.centers = centers\n",
        "        self.beta = beta\n",
        "        self.lr = lr\n",
        "        self.epochs = epochs\n",
        "\n",
        "        self.W = np.random.randn(kernels,1)\n",
        "        self.b = np.random.randn(1,1)\n",
        "\n",
        "        # to save the errors evolution\n",
        "        # in case we want to check them later\n",
        "        self.errors = []\n",
        "\n",
        "        # to save the gradients\n",
        "        # calculated by the network\n",
        "        # for verification reasons\n",
        "        self.gradients = []\n",
        "\n",
        "\n",
        "    def rbf_activation(self,x,center):\n",
        "        return np.exp(-self.beta*np.linalg.norm(x - center)**2)\n",
        "\n",
        "\n",
        "    def linear_activation(self,A):\n",
        "        return self.W.T.dot(A) + self.b\n",
        "\n",
        "    def least_square_error(self,pred,y):\n",
        "        return (y - pred).flatten()**2\n",
        "\n",
        "    def _forward_propagation(self,x):\n",
        "\n",
        "        a1 = np.array([\n",
        "            [self.rbf_activation(x,center)]\n",
        "            for center in self.centers\n",
        "        ])\n",
        "\n",
        "        a2 = self.linear_activation(a1)\n",
        "\n",
        "        return a2, a1\n",
        "\n",
        "    def _backpropagation(self, y, pred,a1):\n",
        "        # Back propagation\n",
        "        dW = -(y - pred).flatten()*a1\n",
        "        db = -(y - pred).flatten()\n",
        "\n",
        "        # Updating the weights\n",
        "        self.W = self.W -self.lr*dW\n",
        "        self.b = self.b -self.lr*db\n",
        "        return dW, db\n",
        "\n",
        "\n",
        "    def fit(self,X,Y):\n",
        "\n",
        "        for _ in range(self.epochs):\n",
        "\n",
        "            for x,y in list(zip(X,Y)):\n",
        "                # Forward propagation\n",
        "                pred, a1 = self._forward_propagation(x)\n",
        "\n",
        "                error = self.least_square_error(pred[0],y[0,np.newaxis])\n",
        "                self.errors.append(error)\n",
        "\n",
        "                # Back propagation\n",
        "                dW, db = self._backpropagation(y,pred,a1)\n",
        "                self.gradients.append((dW,db))\n",
        "\n",
        "    def predict(self,x):\n",
        "        a2,a1 = self._forward_propagation(x)\n",
        "        return 1 if np.squeeze(a2) >= 0.5 else 0"
      ]
    },
    {
      "cell_type": "code",
      "source": [
        "def main():\n",
        "        X = np.array([\n",
        "            [0,0],\n",
        "            [0,1],\n",
        "            [1,0],\n",
        "            [1,1]\n",
        "        ])\n",
        "        Y = np.array([\n",
        "            [0],\n",
        "            [1],\n",
        "            [1],\n",
        "            [0]\n",
        "        ])\n",
        "\n",
        "\n",
        "        rbf = RBFNN(kernels=2,\n",
        "                    centers=np.array([\n",
        "                        [0,1],\n",
        "                        [1,0]\n",
        "\n",
        "                    ]),\n",
        "                    beta=1,\n",
        "                    lr= 0.1,\n",
        "                    epochs=80\n",
        "                    )\n",
        "\n",
        "        rbf.fit(X,Y)\n",
        "\n",
        "        print(f\"RBFN weights : {rbf.W}\")\n",
        "        print(f\"RBFN bias : {rbf.b}\")\n",
        "        print()\n",
        "        print(\"-- XOR Gate --\")\n",
        "        print(f\"| 1 xor 1 : {rbf.predict(X[3])} |\")\n",
        "        print(f\"| 0 xor 0 : {rbf.predict(X[0])} |\")\n",
        "        print(f\"| 1 xor 0 : {rbf.predict(X[2])} |\")\n",
        "        print(f\"| 0 xor 1 : {rbf.predict(X[1])} |\")\n",
        "        print(\"_______________\")\n",
        "\n",
        "\n",
        "main()"
      ],
      "metadata": {
        "colab": {
          "base_uri": "https://localhost:8080/"
        },
        "id": "V2upHVHNFFSF",
        "outputId": "1a717afe-b6f4-452a-d0ea-92b01ccbe90c"
      },
      "execution_count": null,
      "outputs": [
        {
          "output_type": "stream",
          "name": "stdout",
          "text": [
            "RBFN weights : [[1.84705707]\n",
            " [1.82536356]]\n",
            "RBFN bias : [[-1.20743656]]\n",
            "\n",
            "-- XOR Gate --\n",
            "| 1 xor 1 : 0 |\n",
            "| 0 xor 0 : 0 |\n",
            "| 1 xor 0 : 1 |\n",
            "| 0 xor 1 : 1 |\n",
            "_______________\n"
          ]
        }
      ]
    }
  ]
}